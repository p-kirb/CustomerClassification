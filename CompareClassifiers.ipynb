{
 "cells": [
  {
   "cell_type": "markdown",
   "metadata": {},
   "source": [
    "Notebook for comparing the models using cross validation\n",
    "1. Load dataset\n",
    "2. Split data into folds of training and test subsets.\n",
    "3. For each fold, for each model:\n",
    "    - Preprocess training data.\n",
    "    - Fit model to training data.\n",
    "    - Process test data based on training data learned parameters.\n",
    "    - Test trainig data."
   ]
  },
  {
   "cell_type": "code",
   "execution_count": 1,
   "metadata": {},
   "outputs": [],
   "source": [
    "import pandas as pd\n",
    "import settings\n",
    "from HelperFunctions import *\n",
    "from MixedNB import MixedNB\n",
    "from MyKNN import MyKNN\n",
    "from sklearn import tree\n",
    "from sklearn.ensemble import RandomForestClassifier\n",
    "from sklearn.model_selection import GridSearchCV\n",
    "from sklearn.metrics import make_scorer\n",
    "\n",
    "import time\n",
    "\n"
   ]
  },
  {
   "cell_type": "code",
   "execution_count": 2,
   "metadata": {},
   "outputs": [
    {
     "name": "stderr",
     "output_type": "stream",
     "text": [
      "/home/peter/.local/lib/python3.10/site-packages/openpyxl/styles/stylesheet.py:226: UserWarning: Workbook contains no default style, apply openpyxl's default\n",
      "  warn(\"Workbook contains no default style, apply openpyxl's default\")\n"
     ]
    }
   ],
   "source": [
    "#loading data\n",
    "fullTrainData = pd.read_excel(settings.labelledDatapath)"
   ]
  },
  {
   "cell_type": "code",
   "execution_count": 3,
   "metadata": {},
   "outputs": [],
   "source": [
    "#these steps are independent of actual data content, so can be done on training and test data together.\n",
    "dtData = preprocessDT(fullTrainData)\n",
    "nbData = preprocessNB(fullTrainData)\n",
    "knnData = preprocessKNN(fullTrainData)"
   ]
  },
  {
   "cell_type": "code",
   "execution_count": 4,
   "metadata": {},
   "outputs": [],
   "source": [
    "naiveBayes = MixedNB()\n",
    "knn = MyKNN()\n",
    "dt = tree.DecisionTreeClassifier()\n",
    "rf = RandomForestClassifier()"
   ]
  },
  {
   "cell_type": "code",
   "execution_count": 5,
   "metadata": {},
   "outputs": [],
   "source": [
    "#dictionaries of parameters to be tested for each classifier\n",
    "nbParam = {\n",
    "    \"alpha\": [0.2, 0.4, 0.6, 0.8, 1]\n",
    "}\n",
    "\n",
    "knnParam = {\n",
    "    \"n_neighbors\": [3, 4, 5, 6, 7, 8, 9, 10, 11, 12, 13, 14, 15, 16, 17, 18, 19, 20],\n",
    "    \"weights\": [\"uniform\", \"distance\"]\n",
    "}\n",
    "\n",
    "dtParam = {\n",
    "    \"criterion\": [\"gini\", \"entropy\", \"log_loss\"],\n",
    "    \"splitter\": [\"best\", \"random\"],\n",
    "    \"max_depth\": [5, 6, 7, 8, None],\n",
    "    \"min_samples_split\": [2, 3, 4, 5, 6],\n",
    "\n",
    "    \"max_features\": [None, \"sqrt\", \"log2\"],\n",
    "    \"class_weight\": [None, \"balanced\"],\n",
    "    \"ccp_alpha\": [0, 0.2, 0.4, 0,6]\n",
    "}\n",
    "\n",
    "rfParam = {\n",
    "    \"n_estimators\": [30, 90, 100, 110, 170],\n",
    "    \"max_depth\": [5, 6, 7, 8, None],\n",
    "    \"min_samples_split\": [3, 4, 5, 6],\n",
    "    \"max_features\": [None, \"sqrt\", \"log2\"],\n",
    "    \"bootstrap\": [True, False],\n",
    "    \"oob_score\": [True, False],\n",
    "    \"class_weight\": [\"balanced\", \"balanced_subsample\", None]\n",
    "}"
   ]
  },
  {
   "cell_type": "code",
   "execution_count": 6,
   "metadata": {},
   "outputs": [],
   "source": [
    "searchCV = GridSearchCV(estimator = dt,\n",
    "                       param_grid = dtParam,\n",
    "                       scoring = make_scorer(customScorer, greater_is_better=True),\n",
    "                       cv = 5,\n",
    "                       verbose = 1,\n",
    "                       n_jobs = 1\n",
    "                       )"
   ]
  },
  {
   "cell_type": "code",
   "execution_count": 7,
   "metadata": {},
   "outputs": [
    {
     "name": "stdout",
     "output_type": "stream",
     "text": [
      "Fitting 5 folds for each of 4500 candidates, totalling 22500 fits\n",
      "took 1552.4210844039917s\n"
     ]
    }
   ],
   "source": [
    "start = time.time()\n",
    "features = dtData.drop(labels=[\"class\"], axis=1)\n",
    "labels = dtData[\"class\"]\n",
    "searchCV.fit(features, labels)\n",
    "dtBestScore = searchCV.best_score_\n",
    "dtBestParams = searchCV.best_params_\n",
    "end = time.time()\n",
    "print(f\"took {end-start}s\")\n",
    "#searchCV.cv_results_"
   ]
  },
  {
   "cell_type": "code",
   "execution_count": 8,
   "metadata": {},
   "outputs": [
    {
     "data": {
      "text/plain": [
       "91416.3"
      ]
     },
     "execution_count": 8,
     "metadata": {},
     "output_type": "execute_result"
    }
   ],
   "source": [
    "dtBestScore"
   ]
  },
  {
   "cell_type": "code",
   "execution_count": 9,
   "metadata": {},
   "outputs": [
    {
     "data": {
      "text/plain": [
       "{'ccp_alpha': 0,\n",
       " 'class_weight': 'balanced',\n",
       " 'criterion': 'gini',\n",
       " 'max_depth': 8,\n",
       " 'max_features': None,\n",
       " 'min_samples_split': 5,\n",
       " 'splitter': 'best'}"
      ]
     },
     "execution_count": 9,
     "metadata": {},
     "output_type": "execute_result"
    }
   ],
   "source": [
    "dtBestParams"
   ]
  },
  {
   "cell_type": "code",
   "execution_count": 10,
   "metadata": {},
   "outputs": [],
   "source": [
    "searchCV = GridSearchCV(estimator = naiveBayes,\n",
    "                       param_grid = nbParam,\n",
    "                       scoring = make_scorer(customScorer, greater_is_better=True),\n",
    "                       cv = 5,\n",
    "                       verbose = 2,\n",
    "                       n_jobs = 1\n",
    "                       )"
   ]
  },
  {
   "cell_type": "code",
   "execution_count": 11,
   "metadata": {},
   "outputs": [
    {
     "name": "stdout",
     "output_type": "stream",
     "text": [
      "Fitting 5 folds for each of 5 candidates, totalling 25 fits\n",
      "[CV] END ..........................................alpha=0.2; total time=   0.0s\n",
      "[CV] END ..........................................alpha=0.2; total time=   0.0s\n",
      "[CV] END ..........................................alpha=0.2; total time=   0.0s\n",
      "[CV] END ..........................................alpha=0.2; total time=   0.0s\n",
      "[CV] END ..........................................alpha=0.2; total time=   0.0s\n",
      "[CV] END ..........................................alpha=0.4; total time=   0.0s\n",
      "[CV] END ..........................................alpha=0.4; total time=   0.0s\n",
      "[CV] END ..........................................alpha=0.4; total time=   0.0s\n",
      "[CV] END ..........................................alpha=0.4; total time=   0.0s\n",
      "[CV] END ..........................................alpha=0.4; total time=   0.0s\n",
      "[CV] END ..........................................alpha=0.6; total time=   0.0s\n",
      "[CV] END ..........................................alpha=0.6; total time=   0.0s\n",
      "[CV] END ..........................................alpha=0.6; total time=   0.0s\n",
      "[CV] END ..........................................alpha=0.6; total time=   0.0s\n",
      "[CV] END ..........................................alpha=0.6; total time=   0.0s\n",
      "[CV] END ..........................................alpha=0.8; total time=   0.0s\n",
      "[CV] END ..........................................alpha=0.8; total time=   0.0s\n",
      "[CV] END ..........................................alpha=0.8; total time=   0.0s\n",
      "[CV] END ..........................................alpha=0.8; total time=   0.0s\n",
      "[CV] END ..........................................alpha=0.8; total time=   0.0s\n",
      "[CV] END ............................................alpha=1; total time=   0.0s\n",
      "[CV] END ............................................alpha=1; total time=   0.0s\n",
      "[CV] END ............................................alpha=1; total time=   0.0s\n",
      "[CV] END ............................................alpha=1; total time=   0.0s\n",
      "[CV] END ............................................alpha=1; total time=   0.0s\n"
     ]
    }
   ],
   "source": [
    "features = nbData.drop(labels=[\"class\"], axis=1)\n",
    "labels = nbData[\"class\"]\n",
    "searchCV.fit(features, labels)\n",
    "nbBestScore = searchCV.best_score_\n",
    "nbBestParams = searchCV.best_params_\n",
    "#searchCV.cv_results_"
   ]
  },
  {
   "cell_type": "code",
   "execution_count": 12,
   "metadata": {},
   "outputs": [
    {
     "data": {
      "text/plain": [
       "54810.0"
      ]
     },
     "execution_count": 12,
     "metadata": {},
     "output_type": "execute_result"
    }
   ],
   "source": [
    "nbBestScore"
   ]
  },
  {
   "cell_type": "code",
   "execution_count": 13,
   "metadata": {},
   "outputs": [
    {
     "data": {
      "text/plain": [
       "{'alpha': 0.2}"
      ]
     },
     "execution_count": 13,
     "metadata": {},
     "output_type": "execute_result"
    }
   ],
   "source": [
    "nbBestParams"
   ]
  },
  {
   "cell_type": "code",
   "execution_count": 14,
   "metadata": {},
   "outputs": [],
   "source": [
    "searchCV = GridSearchCV(estimator = knn,\n",
    "                       param_grid = knnParam,\n",
    "                       scoring = make_scorer(customScorer, greater_is_better=True),\n",
    "                       cv = 5,\n",
    "                       verbose = 2,\n",
    "                       n_jobs = 1\n",
    "                       )"
   ]
  },
  {
   "cell_type": "code",
   "execution_count": 15,
   "metadata": {},
   "outputs": [
    {
     "name": "stdout",
     "output_type": "stream",
     "text": [
      "Fitting 5 folds for each of 36 candidates, totalling 180 fits\n",
      "[CV] END .....................n_neighbors=3, weights=uniform; total time=   0.6s\n",
      "[CV] END .....................n_neighbors=3, weights=uniform; total time=   0.6s\n",
      "[CV] END .....................n_neighbors=3, weights=uniform; total time=   0.6s\n",
      "[CV] END .....................n_neighbors=3, weights=uniform; total time=   0.6s\n",
      "[CV] END .....................n_neighbors=3, weights=uniform; total time=   0.6s\n",
      "[CV] END ....................n_neighbors=3, weights=distance; total time=   0.6s\n",
      "[CV] END ....................n_neighbors=3, weights=distance; total time=   0.6s\n",
      "[CV] END ....................n_neighbors=3, weights=distance; total time=   0.6s\n",
      "[CV] END ....................n_neighbors=3, weights=distance; total time=   0.6s\n",
      "[CV] END ....................n_neighbors=3, weights=distance; total time=   0.6s\n",
      "[CV] END .....................n_neighbors=4, weights=uniform; total time=   0.6s\n",
      "[CV] END .....................n_neighbors=4, weights=uniform; total time=   0.6s\n",
      "[CV] END .....................n_neighbors=4, weights=uniform; total time=   0.6s\n",
      "[CV] END .....................n_neighbors=4, weights=uniform; total time=   0.6s\n",
      "[CV] END .....................n_neighbors=4, weights=uniform; total time=   0.6s\n",
      "[CV] END ....................n_neighbors=4, weights=distance; total time=   0.6s\n",
      "[CV] END ....................n_neighbors=4, weights=distance; total time=   0.6s\n",
      "[CV] END ....................n_neighbors=4, weights=distance; total time=   0.8s\n",
      "[CV] END ....................n_neighbors=4, weights=distance; total time=   0.7s\n",
      "[CV] END ....................n_neighbors=4, weights=distance; total time=   0.6s\n",
      "[CV] END .....................n_neighbors=5, weights=uniform; total time=   0.6s\n",
      "[CV] END .....................n_neighbors=5, weights=uniform; total time=   0.6s\n",
      "[CV] END .....................n_neighbors=5, weights=uniform; total time=   0.6s\n",
      "[CV] END .....................n_neighbors=5, weights=uniform; total time=   0.6s\n",
      "[CV] END .....................n_neighbors=5, weights=uniform; total time=   0.8s\n",
      "[CV] END ....................n_neighbors=5, weights=distance; total time=   0.6s\n",
      "[CV] END ....................n_neighbors=5, weights=distance; total time=   0.8s\n",
      "[CV] END ....................n_neighbors=5, weights=distance; total time=   0.6s\n",
      "[CV] END ....................n_neighbors=5, weights=distance; total time=   0.6s\n",
      "[CV] END ....................n_neighbors=5, weights=distance; total time=   0.6s\n",
      "[CV] END .....................n_neighbors=6, weights=uniform; total time=   0.6s\n",
      "[CV] END .....................n_neighbors=6, weights=uniform; total time=   0.6s\n",
      "[CV] END .....................n_neighbors=6, weights=uniform; total time=   0.8s\n",
      "[CV] END .....................n_neighbors=6, weights=uniform; total time=   0.6s\n",
      "[CV] END .....................n_neighbors=6, weights=uniform; total time=   0.6s\n",
      "[CV] END ....................n_neighbors=6, weights=distance; total time=   0.6s\n",
      "[CV] END ....................n_neighbors=6, weights=distance; total time=   0.6s\n",
      "[CV] END ....................n_neighbors=6, weights=distance; total time=   0.6s\n",
      "[CV] END ....................n_neighbors=6, weights=distance; total time=   0.6s\n",
      "[CV] END ....................n_neighbors=6, weights=distance; total time=   0.8s\n",
      "[CV] END .....................n_neighbors=7, weights=uniform; total time=   0.9s\n",
      "[CV] END .....................n_neighbors=7, weights=uniform; total time=   0.6s\n",
      "[CV] END .....................n_neighbors=7, weights=uniform; total time=   0.7s\n",
      "[CV] END .....................n_neighbors=7, weights=uniform; total time=   0.7s\n",
      "[CV] END .....................n_neighbors=7, weights=uniform; total time=   0.7s\n",
      "[CV] END ....................n_neighbors=7, weights=distance; total time=   0.7s\n",
      "[CV] END ....................n_neighbors=7, weights=distance; total time=   0.7s\n",
      "[CV] END ....................n_neighbors=7, weights=distance; total time=   0.9s\n",
      "[CV] END ....................n_neighbors=7, weights=distance; total time=   0.7s\n",
      "[CV] END ....................n_neighbors=7, weights=distance; total time=   0.7s\n",
      "[CV] END .....................n_neighbors=8, weights=uniform; total time=   0.7s\n",
      "[CV] END .....................n_neighbors=8, weights=uniform; total time=   0.7s\n",
      "[CV] END .....................n_neighbors=8, weights=uniform; total time=   0.7s\n",
      "[CV] END .....................n_neighbors=8, weights=uniform; total time=   0.7s\n",
      "[CV] END .....................n_neighbors=8, weights=uniform; total time=   0.7s\n",
      "[CV] END ....................n_neighbors=8, weights=distance; total time=   0.7s\n",
      "[CV] END ....................n_neighbors=8, weights=distance; total time=   0.7s\n",
      "[CV] END ....................n_neighbors=8, weights=distance; total time=   1.2s\n",
      "[CV] END ....................n_neighbors=8, weights=distance; total time=   0.7s\n",
      "[CV] END ....................n_neighbors=8, weights=distance; total time=   0.8s\n",
      "[CV] END .....................n_neighbors=9, weights=uniform; total time=   1.1s\n",
      "[CV] END .....................n_neighbors=9, weights=uniform; total time=   1.0s\n",
      "[CV] END .....................n_neighbors=9, weights=uniform; total time=   0.7s\n",
      "[CV] END .....................n_neighbors=9, weights=uniform; total time=   0.7s\n",
      "[CV] END .....................n_neighbors=9, weights=uniform; total time=   0.7s\n",
      "[CV] END ....................n_neighbors=9, weights=distance; total time=   0.7s\n",
      "[CV] END ....................n_neighbors=9, weights=distance; total time=   0.7s\n",
      "[CV] END ....................n_neighbors=9, weights=distance; total time=   0.7s\n",
      "[CV] END ....................n_neighbors=9, weights=distance; total time=   1.2s\n",
      "[CV] END ....................n_neighbors=9, weights=distance; total time=   0.9s\n",
      "[CV] END ....................n_neighbors=10, weights=uniform; total time=   0.8s\n",
      "[CV] END ....................n_neighbors=10, weights=uniform; total time=   0.7s\n",
      "[CV] END ....................n_neighbors=10, weights=uniform; total time=   0.7s\n",
      "[CV] END ....................n_neighbors=10, weights=uniform; total time=   0.7s\n",
      "[CV] END ....................n_neighbors=10, weights=uniform; total time=   0.7s\n",
      "[CV] END ...................n_neighbors=10, weights=distance; total time=   0.7s\n",
      "[CV] END ...................n_neighbors=10, weights=distance; total time=   0.7s\n",
      "[CV] END ...................n_neighbors=10, weights=distance; total time=   0.7s\n",
      "[CV] END ...................n_neighbors=10, weights=distance; total time=   0.8s\n",
      "[CV] END ...................n_neighbors=10, weights=distance; total time=   0.7s\n",
      "[CV] END ....................n_neighbors=11, weights=uniform; total time=   0.7s\n",
      "[CV] END ....................n_neighbors=11, weights=uniform; total time=   0.7s\n",
      "[CV] END ....................n_neighbors=11, weights=uniform; total time=   0.7s\n",
      "[CV] END ....................n_neighbors=11, weights=uniform; total time=   0.7s\n",
      "[CV] END ....................n_neighbors=11, weights=uniform; total time=   0.7s\n",
      "[CV] END ...................n_neighbors=11, weights=distance; total time=   0.7s\n",
      "[CV] END ...................n_neighbors=11, weights=distance; total time=   0.7s\n",
      "[CV] END ...................n_neighbors=11, weights=distance; total time=   0.7s\n",
      "[CV] END ...................n_neighbors=11, weights=distance; total time=   0.7s\n",
      "[CV] END ...................n_neighbors=11, weights=distance; total time=   0.7s\n",
      "[CV] END ....................n_neighbors=12, weights=uniform; total time=   0.7s\n",
      "[CV] END ....................n_neighbors=12, weights=uniform; total time=   0.7s\n",
      "[CV] END ....................n_neighbors=12, weights=uniform; total time=   0.7s\n",
      "[CV] END ....................n_neighbors=12, weights=uniform; total time=   0.7s\n",
      "[CV] END ....................n_neighbors=12, weights=uniform; total time=   0.7s\n",
      "[CV] END ...................n_neighbors=12, weights=distance; total time=   0.7s\n",
      "[CV] END ...................n_neighbors=12, weights=distance; total time=   0.7s\n",
      "[CV] END ...................n_neighbors=12, weights=distance; total time=   0.7s\n",
      "[CV] END ...................n_neighbors=12, weights=distance; total time=   0.7s\n",
      "[CV] END ...................n_neighbors=12, weights=distance; total time=   0.7s\n",
      "[CV] END ....................n_neighbors=13, weights=uniform; total time=   0.7s\n"
     ]
    },
    {
     "name": "stdout",
     "output_type": "stream",
     "text": [
      "[CV] END ....................n_neighbors=13, weights=uniform; total time=   0.7s\n",
      "[CV] END ....................n_neighbors=13, weights=uniform; total time=   0.7s\n",
      "[CV] END ....................n_neighbors=13, weights=uniform; total time=   0.7s\n",
      "[CV] END ....................n_neighbors=13, weights=uniform; total time=   0.7s\n",
      "[CV] END ...................n_neighbors=13, weights=distance; total time=   0.7s\n",
      "[CV] END ...................n_neighbors=13, weights=distance; total time=   0.7s\n",
      "[CV] END ...................n_neighbors=13, weights=distance; total time=   0.7s\n",
      "[CV] END ...................n_neighbors=13, weights=distance; total time=   0.7s\n",
      "[CV] END ...................n_neighbors=13, weights=distance; total time=   0.7s\n",
      "[CV] END ....................n_neighbors=14, weights=uniform; total time=   0.7s\n",
      "[CV] END ....................n_neighbors=14, weights=uniform; total time=   0.7s\n",
      "[CV] END ....................n_neighbors=14, weights=uniform; total time=   0.7s\n",
      "[CV] END ....................n_neighbors=14, weights=uniform; total time=   0.9s\n",
      "[CV] END ....................n_neighbors=14, weights=uniform; total time=   0.7s\n",
      "[CV] END ...................n_neighbors=14, weights=distance; total time=   0.7s\n",
      "[CV] END ...................n_neighbors=14, weights=distance; total time=   0.8s\n",
      "[CV] END ...................n_neighbors=14, weights=distance; total time=   0.7s\n",
      "[CV] END ...................n_neighbors=14, weights=distance; total time=   0.9s\n",
      "[CV] END ...................n_neighbors=14, weights=distance; total time=   0.7s\n",
      "[CV] END ....................n_neighbors=15, weights=uniform; total time=   0.7s\n",
      "[CV] END ....................n_neighbors=15, weights=uniform; total time=   0.7s\n",
      "[CV] END ....................n_neighbors=15, weights=uniform; total time=   0.7s\n",
      "[CV] END ....................n_neighbors=15, weights=uniform; total time=   0.7s\n",
      "[CV] END ....................n_neighbors=15, weights=uniform; total time=   0.9s\n",
      "[CV] END ...................n_neighbors=15, weights=distance; total time=   1.0s\n",
      "[CV] END ...................n_neighbors=15, weights=distance; total time=   1.0s\n",
      "[CV] END ...................n_neighbors=15, weights=distance; total time=   0.7s\n",
      "[CV] END ...................n_neighbors=15, weights=distance; total time=   0.8s\n",
      "[CV] END ...................n_neighbors=15, weights=distance; total time=   0.8s\n",
      "[CV] END ....................n_neighbors=16, weights=uniform; total time=   0.7s\n",
      "[CV] END ....................n_neighbors=16, weights=uniform; total time=   0.7s\n",
      "[CV] END ....................n_neighbors=16, weights=uniform; total time=   0.9s\n",
      "[CV] END ....................n_neighbors=16, weights=uniform; total time=   0.7s\n",
      "[CV] END ....................n_neighbors=16, weights=uniform; total time=   0.9s\n",
      "[CV] END ...................n_neighbors=16, weights=distance; total time=   0.7s\n",
      "[CV] END ...................n_neighbors=16, weights=distance; total time=   0.9s\n",
      "[CV] END ...................n_neighbors=16, weights=distance; total time=   0.8s\n",
      "[CV] END ...................n_neighbors=16, weights=distance; total time=   0.8s\n",
      "[CV] END ...................n_neighbors=16, weights=distance; total time=   0.8s\n",
      "[CV] END ....................n_neighbors=17, weights=uniform; total time=   0.8s\n",
      "[CV] END ....................n_neighbors=17, weights=uniform; total time=   0.8s\n",
      "[CV] END ....................n_neighbors=17, weights=uniform; total time=   0.8s\n",
      "[CV] END ....................n_neighbors=17, weights=uniform; total time=   0.7s\n",
      "[CV] END ....................n_neighbors=17, weights=uniform; total time=   1.2s\n",
      "[CV] END ...................n_neighbors=17, weights=distance; total time=   0.8s\n",
      "[CV] END ...................n_neighbors=17, weights=distance; total time=   1.0s\n",
      "[CV] END ...................n_neighbors=17, weights=distance; total time=   0.9s\n",
      "[CV] END ...................n_neighbors=17, weights=distance; total time=   1.0s\n",
      "[CV] END ...................n_neighbors=17, weights=distance; total time=   1.3s\n",
      "[CV] END ....................n_neighbors=18, weights=uniform; total time=   0.8s\n",
      "[CV] END ....................n_neighbors=18, weights=uniform; total time=   0.8s\n",
      "[CV] END ....................n_neighbors=18, weights=uniform; total time=   0.7s\n",
      "[CV] END ....................n_neighbors=18, weights=uniform; total time=   0.9s\n",
      "[CV] END ....................n_neighbors=18, weights=uniform; total time=   0.8s\n",
      "[CV] END ...................n_neighbors=18, weights=distance; total time=   0.9s\n",
      "[CV] END ...................n_neighbors=18, weights=distance; total time=   0.8s\n",
      "[CV] END ...................n_neighbors=18, weights=distance; total time=   0.7s\n",
      "[CV] END ...................n_neighbors=18, weights=distance; total time=   0.8s\n",
      "[CV] END ...................n_neighbors=18, weights=distance; total time=   0.8s\n",
      "[CV] END ....................n_neighbors=19, weights=uniform; total time=   0.8s\n",
      "[CV] END ....................n_neighbors=19, weights=uniform; total time=   0.8s\n",
      "[CV] END ....................n_neighbors=19, weights=uniform; total time=   1.1s\n",
      "[CV] END ....................n_neighbors=19, weights=uniform; total time=   0.9s\n",
      "[CV] END ....................n_neighbors=19, weights=uniform; total time=   0.7s\n",
      "[CV] END ...................n_neighbors=19, weights=distance; total time=   0.8s\n",
      "[CV] END ...................n_neighbors=19, weights=distance; total time=   0.8s\n",
      "[CV] END ...................n_neighbors=19, weights=distance; total time=   0.7s\n",
      "[CV] END ...................n_neighbors=19, weights=distance; total time=   0.8s\n",
      "[CV] END ...................n_neighbors=19, weights=distance; total time=   0.8s\n",
      "[CV] END ....................n_neighbors=20, weights=uniform; total time=   0.8s\n",
      "[CV] END ....................n_neighbors=20, weights=uniform; total time=   0.7s\n",
      "[CV] END ....................n_neighbors=20, weights=uniform; total time=   0.7s\n",
      "[CV] END ....................n_neighbors=20, weights=uniform; total time=   0.7s\n",
      "[CV] END ....................n_neighbors=20, weights=uniform; total time=   0.7s\n",
      "[CV] END ...................n_neighbors=20, weights=distance; total time=   0.7s\n",
      "[CV] END ...................n_neighbors=20, weights=distance; total time=   0.8s\n",
      "[CV] END ...................n_neighbors=20, weights=distance; total time=   0.7s\n",
      "[CV] END ...................n_neighbors=20, weights=distance; total time=   0.7s\n",
      "[CV] END ...................n_neighbors=20, weights=distance; total time=   0.8s\n"
     ]
    }
   ],
   "source": [
    "features = knnData.drop(labels=[\"class\"], axis=1)\n",
    "labels = knnData[\"class\"]\n",
    "searchCV.fit(features, labels)\n",
    "knnBestScore = searchCV.best_score_\n",
    "knnBestParams = searchCV.best_params_\n",
    "#searchCV.cv_results_"
   ]
  },
  {
   "cell_type": "code",
   "execution_count": 16,
   "metadata": {},
   "outputs": [
    {
     "data": {
      "text/plain": [
       "70327.8"
      ]
     },
     "execution_count": 16,
     "metadata": {},
     "output_type": "execute_result"
    }
   ],
   "source": [
    "knnBestScore"
   ]
  },
  {
   "cell_type": "code",
   "execution_count": 17,
   "metadata": {},
   "outputs": [
    {
     "data": {
      "text/plain": [
       "{'n_neighbors': 17, 'weights': 'uniform'}"
      ]
     },
     "execution_count": 17,
     "metadata": {},
     "output_type": "execute_result"
    }
   ],
   "source": [
    "knnBestParams"
   ]
  },
  {
   "cell_type": "code",
   "execution_count": 19,
   "metadata": {},
   "outputs": [],
   "source": [
    "searchCV = GridSearchCV(estimator = rf,\n",
    "                       param_grid = rfParam,\n",
    "                       scoring = make_scorer(customScorer, greater_is_better=True),\n",
    "                       cv = 5,\n",
    "                       verbose = 1,\n",
    "                       n_jobs = 1\n",
    "                       )"
   ]
  },
  {
   "cell_type": "code",
   "execution_count": 21,
   "metadata": {},
   "outputs": [
    {
     "name": "stdout",
     "output_type": "stream",
     "text": [
      "Fitting 5 folds for each of 3600 candidates, totalling 18000 fits\n"
     ]
    },
    {
     "name": "stderr",
     "output_type": "stream",
     "text": [
      "/home/peter/.local/lib/python3.10/site-packages/sklearn/ensemble/_forest.py:583: UserWarning: Some inputs do not have OOB scores. This probably means too few trees were used to compute any reliable OOB estimates.\n",
      "  warn(\n",
      "/home/peter/.local/lib/python3.10/site-packages/sklearn/ensemble/_forest.py:583: UserWarning: Some inputs do not have OOB scores. This probably means too few trees were used to compute any reliable OOB estimates.\n",
      "  warn(\n",
      "/home/peter/.local/lib/python3.10/site-packages/sklearn/ensemble/_forest.py:583: UserWarning: Some inputs do not have OOB scores. This probably means too few trees were used to compute any reliable OOB estimates.\n",
      "  warn(\n",
      "/home/peter/.local/lib/python3.10/site-packages/sklearn/ensemble/_forest.py:583: UserWarning: Some inputs do not have OOB scores. This probably means too few trees were used to compute any reliable OOB estimates.\n",
      "  warn(\n",
      "/home/peter/.local/lib/python3.10/site-packages/sklearn/ensemble/_forest.py:583: UserWarning: Some inputs do not have OOB scores. This probably means too few trees were used to compute any reliable OOB estimates.\n",
      "  warn(\n",
      "/home/peter/.local/lib/python3.10/site-packages/sklearn/ensemble/_forest.py:583: UserWarning: Some inputs do not have OOB scores. This probably means too few trees were used to compute any reliable OOB estimates.\n",
      "  warn(\n",
      "/home/peter/.local/lib/python3.10/site-packages/sklearn/ensemble/_forest.py:583: UserWarning: Some inputs do not have OOB scores. This probably means too few trees were used to compute any reliable OOB estimates.\n",
      "  warn(\n",
      "/home/peter/.local/lib/python3.10/site-packages/sklearn/ensemble/_forest.py:583: UserWarning: Some inputs do not have OOB scores. This probably means too few trees were used to compute any reliable OOB estimates.\n",
      "  warn(\n",
      "/home/peter/.local/lib/python3.10/site-packages/sklearn/ensemble/_forest.py:583: UserWarning: Some inputs do not have OOB scores. This probably means too few trees were used to compute any reliable OOB estimates.\n",
      "  warn(\n",
      "/home/peter/.local/lib/python3.10/site-packages/sklearn/ensemble/_forest.py:583: UserWarning: Some inputs do not have OOB scores. This probably means too few trees were used to compute any reliable OOB estimates.\n",
      "  warn(\n",
      "/home/peter/.local/lib/python3.10/site-packages/sklearn/ensemble/_forest.py:583: UserWarning: Some inputs do not have OOB scores. This probably means too few trees were used to compute any reliable OOB estimates.\n",
      "  warn(\n",
      "/home/peter/.local/lib/python3.10/site-packages/sklearn/ensemble/_forest.py:583: UserWarning: Some inputs do not have OOB scores. This probably means too few trees were used to compute any reliable OOB estimates.\n",
      "  warn(\n",
      "/home/peter/.local/lib/python3.10/site-packages/sklearn/ensemble/_forest.py:583: UserWarning: Some inputs do not have OOB scores. This probably means too few trees were used to compute any reliable OOB estimates.\n",
      "  warn(\n",
      "/home/peter/.local/lib/python3.10/site-packages/sklearn/ensemble/_forest.py:583: UserWarning: Some inputs do not have OOB scores. This probably means too few trees were used to compute any reliable OOB estimates.\n",
      "  warn(\n",
      "/home/peter/.local/lib/python3.10/site-packages/sklearn/ensemble/_forest.py:583: UserWarning: Some inputs do not have OOB scores. This probably means too few trees were used to compute any reliable OOB estimates.\n",
      "  warn(\n",
      "/home/peter/.local/lib/python3.10/site-packages/sklearn/ensemble/_forest.py:583: UserWarning: Some inputs do not have OOB scores. This probably means too few trees were used to compute any reliable OOB estimates.\n",
      "  warn(\n",
      "/home/peter/.local/lib/python3.10/site-packages/sklearn/ensemble/_forest.py:583: UserWarning: Some inputs do not have OOB scores. This probably means too few trees were used to compute any reliable OOB estimates.\n",
      "  warn(\n",
      "/home/peter/.local/lib/python3.10/site-packages/sklearn/ensemble/_forest.py:583: UserWarning: Some inputs do not have OOB scores. This probably means too few trees were used to compute any reliable OOB estimates.\n",
      "  warn(\n",
      "/home/peter/.local/lib/python3.10/site-packages/sklearn/ensemble/_forest.py:583: UserWarning: Some inputs do not have OOB scores. This probably means too few trees were used to compute any reliable OOB estimates.\n",
      "  warn(\n",
      "/home/peter/.local/lib/python3.10/site-packages/sklearn/ensemble/_forest.py:583: UserWarning: Some inputs do not have OOB scores. This probably means too few trees were used to compute any reliable OOB estimates.\n",
      "  warn(\n",
      "/home/peter/.local/lib/python3.10/site-packages/sklearn/ensemble/_forest.py:583: UserWarning: Some inputs do not have OOB scores. This probably means too few trees were used to compute any reliable OOB estimates.\n",
      "  warn(\n",
      "/home/peter/.local/lib/python3.10/site-packages/sklearn/ensemble/_forest.py:583: UserWarning: Some inputs do not have OOB scores. This probably means too few trees were used to compute any reliable OOB estimates.\n",
      "  warn(\n",
      "/home/peter/.local/lib/python3.10/site-packages/sklearn/ensemble/_forest.py:583: UserWarning: Some inputs do not have OOB scores. This probably means too few trees were used to compute any reliable OOB estimates.\n",
      "  warn(\n",
      "/home/peter/.local/lib/python3.10/site-packages/sklearn/ensemble/_forest.py:583: UserWarning: Some inputs do not have OOB scores. This probably means too few trees were used to compute any reliable OOB estimates.\n",
      "  warn(\n",
      "/home/peter/.local/lib/python3.10/site-packages/sklearn/ensemble/_forest.py:583: UserWarning: Some inputs do not have OOB scores. This probably means too few trees were used to compute any reliable OOB estimates.\n",
      "  warn(\n",
      "/home/peter/.local/lib/python3.10/site-packages/sklearn/ensemble/_forest.py:583: UserWarning: Some inputs do not have OOB scores. This probably means too few trees were used to compute any reliable OOB estimates.\n",
      "  warn(\n",
      "/home/peter/.local/lib/python3.10/site-packages/sklearn/ensemble/_forest.py:583: UserWarning: Some inputs do not have OOB scores. This probably means too few trees were used to compute any reliable OOB estimates.\n",
      "  warn(\n",
      "/home/peter/.local/lib/python3.10/site-packages/sklearn/ensemble/_forest.py:583: UserWarning: Some inputs do not have OOB scores. This probably means too few trees were used to compute any reliable OOB estimates.\n",
      "  warn(\n",
      "/home/peter/.local/lib/python3.10/site-packages/sklearn/ensemble/_forest.py:583: UserWarning: Some inputs do not have OOB scores. This probably means too few trees were used to compute any reliable OOB estimates.\n",
      "  warn(\n",
      "/home/peter/.local/lib/python3.10/site-packages/sklearn/ensemble/_forest.py:583: UserWarning: Some inputs do not have OOB scores. This probably means too few trees were used to compute any reliable OOB estimates.\n",
      "  warn(\n",
      "/home/peter/.local/lib/python3.10/site-packages/sklearn/ensemble/_forest.py:583: UserWarning: Some inputs do not have OOB scores. This probably means too few trees were used to compute any reliable OOB estimates.\n",
      "  warn(\n",
      "/home/peter/.local/lib/python3.10/site-packages/sklearn/ensemble/_forest.py:583: UserWarning: Some inputs do not have OOB scores. This probably means too few trees were used to compute any reliable OOB estimates.\n",
      "  warn(\n",
      "/home/peter/.local/lib/python3.10/site-packages/sklearn/ensemble/_forest.py:583: UserWarning: Some inputs do not have OOB scores. This probably means too few trees were used to compute any reliable OOB estimates.\n",
      "  warn(\n",
      "/home/peter/.local/lib/python3.10/site-packages/sklearn/ensemble/_forest.py:583: UserWarning: Some inputs do not have OOB scores. This probably means too few trees were used to compute any reliable OOB estimates.\n",
      "  warn(\n",
      "/home/peter/.local/lib/python3.10/site-packages/sklearn/ensemble/_forest.py:583: UserWarning: Some inputs do not have OOB scores. This probably means too few trees were used to compute any reliable OOB estimates.\n",
      "  warn(\n",
      "/home/peter/.local/lib/python3.10/site-packages/sklearn/model_selection/_validation.py:378: FitFailedWarning: \n",
      "4500 fits failed out of a total of 18000.\n",
      "The score on these train-test partitions for these parameters will be set to nan.\n",
      "If these failures are not expected, you can try to debug them by setting error_score='raise'.\n",
      "\n",
      "Below are more details about the failures:\n",
      "--------------------------------------------------------------------------------\n",
      "4500 fits failed with the following error:\n",
      "Traceback (most recent call last):\n",
      "  File \"/home/peter/.local/lib/python3.10/site-packages/sklearn/model_selection/_validation.py\", line 686, in _fit_and_score\n",
      "    estimator.fit(X_train, y_train, **fit_params)\n",
      "  File \"/home/peter/.local/lib/python3.10/site-packages/sklearn/ensemble/_forest.py\", line 434, in fit\n",
      "    raise ValueError(\"Out of bag estimation only available if bootstrap=True\")\n",
      "ValueError: Out of bag estimation only available if bootstrap=True\n",
      "\n",
      "  warnings.warn(some_fits_failed_message, FitFailedWarning)\n",
      "/home/peter/.local/lib/python3.10/site-packages/sklearn/model_selection/_search.py:952: UserWarning: One or more of the test scores are non-finite: [89773.7 89820.8 89785.1 ... 75998.5     nan 75800.8]\n",
      "  warnings.warn(\n"
     ]
    },
    {
     "name": "stdout",
     "output_type": "stream",
     "text": [
      "took 46824.35323858261s\n",
      "92973.0\n",
      "{'bootstrap': True, 'class_weight': 'balanced_subsample', 'max_depth': 8, 'max_features': None, 'min_samples_split': 5, 'n_estimators': 90, 'oob_score': False}\n"
     ]
    }
   ],
   "source": [
    "start = time.time()\n",
    "features = dtData.drop(labels=[\"class\"], axis=1)\n",
    "labels = dtData[\"class\"]\n",
    "searchCV.fit(features, labels)\n",
    "rfBestScore = searchCV.best_score_\n",
    "rfBestParams = searchCV.best_params_\n",
    "end = time.time()\n",
    "print(f\"took {end-start}s\")\n",
    "#searchCV.cv_results_\n",
    "print(rfBestScore)\n",
    "print(rfBestParams)"
   ]
  },
  {
   "cell_type": "code",
   "execution_count": 22,
   "metadata": {},
   "outputs": [
    {
     "data": {
      "text/plain": [
       "92973.0"
      ]
     },
     "execution_count": 22,
     "metadata": {},
     "output_type": "execute_result"
    }
   ],
   "source": [
    "rfBestScore"
   ]
  },
  {
   "cell_type": "code",
   "execution_count": 24,
   "metadata": {},
   "outputs": [],
   "source": [
    "#another grid search to finer tune parameters (fixing some hyperparameters as previous search took 13 hours)\n",
    "rfParamRefined = {\n",
    "    \"n_estimators\": [89, 90, 91],\n",
    "    \"max_depth\": [7, 8, 9],\n",
    "    \"min_samples_split\": [3, 4, 5, 6],\n",
    "    \"max_features\": [None],\n",
    "    \"class_weight\": [\"balanced_subsample\"]\n",
    "}"
   ]
  },
  {
   "cell_type": "code",
   "execution_count": 25,
   "metadata": {},
   "outputs": [],
   "source": [
    "searchCV = GridSearchCV(estimator = rf,\n",
    "                       param_grid = rfParamRefined,\n",
    "                       scoring = make_scorer(customScorer, greater_is_better=True),\n",
    "                       cv = 5,\n",
    "                       verbose = 1,\n",
    "                       n_jobs = 1\n",
    "                       )"
   ]
  },
  {
   "cell_type": "code",
   "execution_count": 26,
   "metadata": {},
   "outputs": [
    {
     "name": "stdout",
     "output_type": "stream",
     "text": [
      "Fitting 5 folds for each of 36 candidates, totalling 180 fits\n",
      "took 1083.1545114517212s\n",
      "92884.9\n",
      "{'class_weight': 'balanced_subsample', 'max_depth': 9, 'max_features': None, 'min_samples_split': 6, 'n_estimators': 90}\n"
     ]
    }
   ],
   "source": [
    "start = time.time()\n",
    "features = dtData.drop(labels=[\"class\"], axis=1)\n",
    "labels = dtData[\"class\"]\n",
    "searchCV.fit(features, labels)\n",
    "rfBestScoreRefined = searchCV.best_score_\n",
    "rfBestParamsRefined = searchCV.best_params_\n",
    "end = time.time()\n",
    "print(f\"took {end-start}s\")\n",
    "#searchCV.cv_results_\n",
    "print(rfBestScoreRefined)\n",
    "print(rfBestParamsRefined)"
   ]
  },
  {
   "cell_type": "code",
   "execution_count": 27,
   "metadata": {},
   "outputs": [],
   "source": [
    "#even more refined grid search\n",
    "rfParamRefined = {\n",
    "    \"n_estimators\": [90],\n",
    "    \"max_depth\": [8, 9, 10, 11, 12],\n",
    "    \"min_samples_split\": [5, 6, 7, 8, 9],\n",
    "    \"max_features\": [None],\n",
    "    \"class_weight\": [\"balanced_subsample\"]\n",
    "}"
   ]
  },
  {
   "cell_type": "code",
   "execution_count": 28,
   "metadata": {},
   "outputs": [],
   "source": [
    "searchCV = GridSearchCV(estimator = rf,\n",
    "                       param_grid = rfParamRefined,\n",
    "                       scoring = make_scorer(customScorer, greater_is_better=True),\n",
    "                       cv = 5,\n",
    "                       verbose = 1,\n",
    "                       n_jobs = 1\n",
    "                       )"
   ]
  },
  {
   "cell_type": "code",
   "execution_count": 29,
   "metadata": {},
   "outputs": [
    {
     "name": "stdout",
     "output_type": "stream",
     "text": [
      "Fitting 5 folds for each of 25 candidates, totalling 125 fits\n",
      "took 906.6505987644196s\n",
      "93469.5\n",
      "{'class_weight': 'balanced_subsample', 'max_depth': 10, 'max_features': None, 'min_samples_split': 7, 'n_estimators': 90}\n"
     ]
    }
   ],
   "source": [
    "start = time.time()\n",
    "features = dtData.drop(labels=[\"class\"], axis=1)\n",
    "labels = dtData[\"class\"]\n",
    "searchCV.fit(features, labels)\n",
    "rfBestScoreRefined = searchCV.best_score_\n",
    "rfBestParamsRefined = searchCV.best_params_\n",
    "end = time.time()\n",
    "print(f\"took {end-start}s\")\n",
    "#searchCV.cv_results_\n",
    "print(rfBestScoreRefined)\n",
    "print(rfBestParamsRefined)"
   ]
  },
  {
   "cell_type": "code",
   "execution_count": null,
   "metadata": {},
   "outputs": [],
   "source": []
  }
 ],
 "metadata": {
  "kernelspec": {
   "display_name": "Python 3 (ipykernel)",
   "language": "python",
   "name": "python3"
  },
  "language_info": {
   "codemirror_mode": {
    "name": "ipython",
    "version": 3
   },
   "file_extension": ".py",
   "mimetype": "text/x-python",
   "name": "python",
   "nbconvert_exporter": "python",
   "pygments_lexer": "ipython3",
   "version": "3.10.6"
  }
 },
 "nbformat": 4,
 "nbformat_minor": 2
}
